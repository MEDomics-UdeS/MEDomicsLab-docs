{
 "cells": [
  {
   "cell_type": "code",
   "execution_count": 50,
   "metadata": {},
   "outputs": [],
   "source": [
    "import pandas as pd\n",
    "\n",
    "# Assuming you have a DataFrame named 'df' and the column you want to convert is named 'column_name'\n",
    "df = pd.read_csv(\"C:\\\\Users\\\\gblai\\\\Documents\\\\github\\\\WS_DEMO\\\\DATA\\\\breast-cancer.csv\")\n",
    "\n",
    "# Define a mapping dictionary\n",
    "mapping = {'B': 0, 'M': 1}\n",
    "\n",
    "# Use the map() function to convert the column values\n",
    "df['diagnosis'] = df['diagnosis'].map(mapping)"
   ]
  },
  {
   "cell_type": "code",
   "execution_count": 53,
   "metadata": {},
   "outputs": [],
   "source": [
    "\n",
    "# change column name\n",
    "df.rename(columns={'diagnosis':'diagnosis_M-1_B-0'}, inplace=True)\n",
    "\n",
    "# save the converted column to a new csv file\n",
    "df.to_csv(\"C:\\\\Users\\\\gblai\\\\Documents\\\\github\\\\WS_DEMO\\\\DATA\\\\breast-cancer_numerical.csv\", index=False)"
   ]
  }
 ],
 "metadata": {
  "kernelspec": {
   "display_name": "med_conda_env",
   "language": "python",
   "name": "python3"
  },
  "language_info": {
   "codemirror_mode": {
    "name": "ipython",
    "version": 3
   },
   "file_extension": ".py",
   "mimetype": "text/x-python",
   "name": "python",
   "nbconvert_exporter": "python",
   "pygments_lexer": "ipython3",
   "version": "3.9.18"
  }
 },
 "nbformat": 4,
 "nbformat_minor": 2
}
