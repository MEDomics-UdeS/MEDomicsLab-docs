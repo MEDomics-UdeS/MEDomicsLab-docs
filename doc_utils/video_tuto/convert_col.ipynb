{
 "cells": [
  {
   "cell_type": "code",
   "execution_count": 50,
   "metadata": {},
   "outputs": [],
   "source": [
    "import pandas as pd\n",
    "from ydata_profiling import ProfileReport\n",
    "\n",
    "name = \"holdout\"\n",
    "\n",
    "# Assuming you have a DataFrame named 'df' and the column you want to convert is named 'column_name'\n",
    "df = pd.read_csv(\"C:\\\\Users\\\\gblai\\\\Documents\\\\github\\\\WS_DEMO\\\\DATA\\\\holdout_breast-cancer.csv\")\n",
    "df2 = pd.read_csv(\"C:\\\\Users\\\\gblai\\\\Documents\\\\github\\\\WS_DEMO\\\\DATA\\\\train_breast-cancer_numerical.csv\")\n",
    "\n",
    "\n",
    "# Define a mapping dictionary\n",
    "mapping = {'B': 0, 'M': 1}\n",
    "\n",
    "# Use the map() function to convert the column values\n",
    "df['diagnosis'] = df['diagnosis'].map(mapping)\n",
    "df2['diagnosis'] = df2['diagnosis'].map(mapping)\n"
   ]
  },
  {
   "cell_type": "code",
   "execution_count": 51,
   "metadata": {},
   "outputs": [],
   "source": [
    "\n",
    "# drop column name : \"smoothness_worst\"\n",
    "df = df.drop(['smoothness_worst'], axis=1)\n",
    "df = df.drop(['radius_se'], axis=1)\n",
    "df = df.drop(['fractal_dimension_se'], axis=1)\n",
    "df = df.drop(['perimeter_worst'], axis=1)\n",
    "df = df.drop(['compactness_worst'], axis=1)\n",
    "df = df.drop(['symmetry_worst'], axis=1)\n",
    "df = df.drop(['area_se'], axis=1)\n",
    "df = df.drop(['smoothness_se'], axis=1)\n",
    "df = df.drop(['texture_worst'], axis=1)\n",
    "df = df.drop(['fractal_dimension_worst'], axis=1)\n",
    "df = df.drop(['concavity_se'], axis=1)\n",
    "df = df.drop(['concave points_se'], axis=1)\n",
    "df = df.drop(['symmetry_se'], axis=1)\n"
   ]
  },
  {
   "cell_type": "code",
   "execution_count": 52,
   "metadata": {},
   "outputs": [
    {
     "data": {
      "text/plain": [
       "Index(['id', 'diagnosis', 'radius_mean', 'texture_mean', 'perimeter_mean',\n",
       "       'area_mean', 'smoothness_mean', 'compactness_mean', 'concavity_mean',\n",
       "       'concave points_mean', 'symmetry_mean', 'fractal_dimension_mean',\n",
       "       'texture_se', 'perimeter_se', 'compactness_se', 'radius_worst',\n",
       "       'area_worst', 'concavity_worst', 'concave points_worst'],\n",
       "      dtype='object')"
      ]
     },
     "execution_count": 52,
     "metadata": {},
     "output_type": "execute_result"
    }
   ],
   "source": [
    "df.columns"
   ]
  },
  {
   "cell_type": "code",
   "execution_count": 53,
   "metadata": {},
   "outputs": [],
   "source": [
    "\n",
    "# change column name\n",
    "df.rename(columns={'diagnosis':'diagnosis_M-1_B-0'}, inplace=True)\n",
    "\n",
    "# save the converted column to a new csv file\n",
    "df.to_csv(\"C:\\\\Users\\\\gblai\\\\Documents\\\\github\\\\WS_DEMO\\\\DATA\\\\\"+name+\"_breast-cancer_numerical.csv\", index=False)\n"
   ]
  },
  {
   "cell_type": "code",
   "execution_count": 54,
   "metadata": {},
   "outputs": [],
   "source": [
    "\n",
    "dataset1_report = ProfileReport(df, title=\"\"+name+\"_breast-cancer_numerical.csv\".split(\".\")[0].capitalize())\n"
   ]
  },
  {
   "cell_type": "code",
   "execution_count": 55,
   "metadata": {},
   "outputs": [],
   "source": [
    "\n",
    "dataset2_df = pd.read_csv(\"C:\\\\Users\\\\gblai\\\\Documents\\\\github\\\\WS_DEMO\\\\DATA\\\\train_breast-cancer_numerical.csv\")\n",
    "dataset2_report = ProfileReport(dataset2_df, title=\"train_breast-cancer_numerical.csv\".split(\".\")[0].capitalize())\n"
   ]
  },
  {
   "cell_type": "code",
   "execution_count": 56,
   "metadata": {},
   "outputs": [
    {
     "data": {
      "application/vnd.jupyter.widget-view+json": {
       "model_id": "787c54098d7d439eaaa57d49e5e1f6e5",
       "version_major": 2,
       "version_minor": 0
      },
      "text/plain": [
       "Summarize dataset:   0%|          | 0/5 [00:00<?, ?it/s]"
      ]
     },
     "metadata": {},
     "output_type": "display_data"
    },
    {
     "data": {
      "application/vnd.jupyter.widget-view+json": {
       "model_id": "e44b334939d64364829af03724c76c93",
       "version_major": 2,
       "version_minor": 0
      },
      "text/plain": [
       "Summarize dataset:   0%|          | 0/5 [00:00<?, ?it/s]"
      ]
     },
     "metadata": {},
     "output_type": "display_data"
    }
   ],
   "source": [
    "\n",
    "final_report = dataset1_report.compare(dataset2_report)\n",
    "\n"
   ]
  },
  {
   "cell_type": "code",
   "execution_count": 57,
   "metadata": {},
   "outputs": [
    {
     "data": {
      "application/vnd.jupyter.widget-view+json": {
       "model_id": "2ab7176a32f845558bbccc94bd5cb554",
       "version_major": 2,
       "version_minor": 0
      },
      "text/plain": [
       "Generate report structure:   0%|          | 0/1 [00:00<?, ?it/s]"
      ]
     },
     "metadata": {},
     "output_type": "display_data"
    },
    {
     "data": {
      "application/vnd.jupyter.widget-view+json": {
       "model_id": "aa348777adcc42a19c33db56ffa9df06",
       "version_major": 2,
       "version_minor": 0
      },
      "text/plain": [
       "Render HTML:   0%|          | 0/1 [00:00<?, ?it/s]"
      ]
     },
     "metadata": {},
     "output_type": "display_data"
    },
    {
     "data": {
      "application/vnd.jupyter.widget-view+json": {
       "model_id": "7eae5772707e4b57a19d9ee5bc290c57",
       "version_major": 2,
       "version_minor": 0
      },
      "text/plain": [
       "Export report to file:   0%|          | 0/1 [00:00<?, ?it/s]"
      ]
     },
     "metadata": {},
     "output_type": "display_data"
    }
   ],
   "source": [
    "\n",
    "final_report.to_file(\"C:\\\\Users\\\\gblai\\\\Documents\\\\github\\\\testBranch\\\\MEDomicsLab\\\\tmp\\\\ydata_report.html\")"
   ]
  }
 ],
 "metadata": {
  "kernelspec": {
   "display_name": "med_conda_env",
   "language": "python",
   "name": "python3"
  },
  "language_info": {
   "codemirror_mode": {
    "name": "ipython",
    "version": 3
   },
   "file_extension": ".py",
   "mimetype": "text/x-python",
   "name": "python",
   "nbconvert_exporter": "python",
   "pygments_lexer": "ipython3",
   "version": "3.9.18"
  }
 },
 "nbformat": 4,
 "nbformat_minor": 2
}
